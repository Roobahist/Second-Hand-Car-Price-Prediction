{
 "cells": [
  {
   "cell_type": "code",
   "execution_count": 2,
   "metadata": {},
   "outputs": [],
   "source": [
    "import pandas as pd\n",
    "import numpy as np\n",
    "import seaborn as sns\n",
    "sns.set()"
   ]
  },
  {
   "cell_type": "code",
   "execution_count": 2,
   "metadata": {},
   "outputs": [
    {
     "data": {
      "text/html": [
       "<div>\n",
       "<style scoped>\n",
       "    .dataframe tbody tr th:only-of-type {\n",
       "        vertical-align: middle;\n",
       "    }\n",
       "\n",
       "    .dataframe tbody tr th {\n",
       "        vertical-align: top;\n",
       "    }\n",
       "\n",
       "    .dataframe thead th {\n",
       "        text-align: right;\n",
       "    }\n",
       "</style>\n",
       "<table border=\"1\" class=\"dataframe\">\n",
       "  <thead>\n",
       "    <tr style=\"text-align: right;\">\n",
       "      <th></th>\n",
       "      <th>body</th>\n",
       "      <th>brand</th>\n",
       "      <th>cit</th>\n",
       "      <th>color</th>\n",
       "      <th>gear</th>\n",
       "      <th>price</th>\n",
       "      <th>usage</th>\n",
       "      <th>year</th>\n",
       "    </tr>\n",
       "  </thead>\n",
       "  <tbody>\n",
       "    <tr>\n",
       "      <th>0</th>\n",
       "      <td>بدون رنگ</td>\n",
       "      <td>سمند LX ساده</td>\n",
       "      <td>کرج، گوهردشت</td>\n",
       "      <td>سفید</td>\n",
       "      <td>دنده‌ای</td>\n",
       "      <td>67500000.0</td>\n",
       "      <td>135000.0</td>\n",
       "      <td>1394</td>\n",
       "    </tr>\n",
       "    <tr>\n",
       "      <th>1</th>\n",
       "      <td>بدون رنگ</td>\n",
       "      <td>سمند LX ساده</td>\n",
       "      <td>اصفهان، خانه اصفهان</td>\n",
       "      <td>سفید</td>\n",
       "      <td>دنده‌ای</td>\n",
       "      <td>26500000.0</td>\n",
       "      <td>70000.0</td>\n",
       "      <td>1392</td>\n",
       "    </tr>\n",
       "    <tr>\n",
       "      <th>2</th>\n",
       "      <td>بدون رنگ</td>\n",
       "      <td>سمند LX EF7 بنزینی</td>\n",
       "      <td>شیراز، بلوار رحمت</td>\n",
       "      <td>سفید</td>\n",
       "      <td>دنده‌ای</td>\n",
       "      <td>57800000.0</td>\n",
       "      <td>165000.0</td>\n",
       "      <td>1391</td>\n",
       "    </tr>\n",
       "    <tr>\n",
       "      <th>3</th>\n",
       "      <td>بدون رنگ</td>\n",
       "      <td>سمند LX EF7 بنزینی</td>\n",
       "      <td>شیراز، امیرکبیر</td>\n",
       "      <td>سفید</td>\n",
       "      <td>دنده‌ای</td>\n",
       "      <td>99500000.0</td>\n",
       "      <td>13000.0</td>\n",
       "      <td>1398</td>\n",
       "    </tr>\n",
       "    <tr>\n",
       "      <th>4</th>\n",
       "      <td>دو لکه رنگ</td>\n",
       "      <td>سمند LX ساده</td>\n",
       "      <td>شیراز، پل غدیر</td>\n",
       "      <td>سفید</td>\n",
       "      <td>دنده‌ای</td>\n",
       "      <td>63500000.0</td>\n",
       "      <td>110500.0</td>\n",
       "      <td>1394</td>\n",
       "    </tr>\n",
       "  </tbody>\n",
       "</table>\n",
       "</div>"
      ],
      "text/plain": [
       "         body               brand                  cit color     gear  \\\n",
       "0    بدون رنگ        سمند LX ساده         کرج، گوهردشت  سفید  دنده‌ای   \n",
       "1    بدون رنگ        سمند LX ساده  اصفهان، خانه اصفهان  سفید  دنده‌ای   \n",
       "2    بدون رنگ  سمند LX EF7 بنزینی    شیراز، بلوار رحمت  سفید  دنده‌ای   \n",
       "3    بدون رنگ  سمند LX EF7 بنزینی      شیراز، امیرکبیر  سفید  دنده‌ای   \n",
       "4  دو لکه رنگ        سمند LX ساده       شیراز، پل غدیر  سفید  دنده‌ای   \n",
       "\n",
       "        price     usage  year  \n",
       "0  67500000.0  135000.0  1394  \n",
       "1  26500000.0   70000.0  1392  \n",
       "2  57800000.0  165000.0  1391  \n",
       "3  99500000.0   13000.0  1398  \n",
       "4  63500000.0  110500.0  1394  "
      ]
     },
     "execution_count": 2,
     "metadata": {},
     "output_type": "execute_result"
    }
   ],
   "source": [
    "crawled_data = pd.read_csv('../final_result.csv')\n",
    "crawled_data.head()"
   ]
  },
  {
   "cell_type": "markdown",
   "metadata": {},
   "source": [
    "### fixing city information"
   ]
  },
  {
   "cell_type": "code",
   "execution_count": 6,
   "metadata": {},
   "outputs": [],
   "source": [
    "crawled_data['loc_1'] = np.nan\n",
    "crawled_data['loc_2'] = np.nan\n",
    "for i in range(len(crawled_data)):\n",
    "    if len(crawled_data.iloc[i,2].split('،')) == 2:\n",
    "        crawled_data.loc[i,'loc_1'] = crawled_data.iloc[i,2].split('،')[0]\n",
    "        crawled_data.loc[i,'loc_2'] = crawled_data.iloc[i,2].split('،')[1]\n",
    "    else:\n",
    "        crawled_data.loc[i,'loc_1'] = crawled_data.iloc[i,2].split('،')[0]"
   ]
  },
  {
   "cell_type": "code",
   "execution_count": 7,
   "metadata": {},
   "outputs": [],
   "source": [
    "crawled_data = crawled_data.drop(['loc_2','cit'],axis=1)"
   ]
  },
  {
   "cell_type": "code",
   "execution_count": 8,
   "metadata": {},
   "outputs": [
    {
     "data": {
      "text/html": [
       "<div>\n",
       "<style scoped>\n",
       "    .dataframe tbody tr th:only-of-type {\n",
       "        vertical-align: middle;\n",
       "    }\n",
       "\n",
       "    .dataframe tbody tr th {\n",
       "        vertical-align: top;\n",
       "    }\n",
       "\n",
       "    .dataframe thead th {\n",
       "        text-align: right;\n",
       "    }\n",
       "</style>\n",
       "<table border=\"1\" class=\"dataframe\">\n",
       "  <thead>\n",
       "    <tr style=\"text-align: right;\">\n",
       "      <th></th>\n",
       "      <th>body</th>\n",
       "      <th>brand</th>\n",
       "      <th>color</th>\n",
       "      <th>gear</th>\n",
       "      <th>price</th>\n",
       "      <th>usage</th>\n",
       "      <th>year</th>\n",
       "      <th>loc_1</th>\n",
       "    </tr>\n",
       "  </thead>\n",
       "  <tbody>\n",
       "    <tr>\n",
       "      <th>0</th>\n",
       "      <td>بدون رنگ</td>\n",
       "      <td>سمند LX ساده</td>\n",
       "      <td>سفید</td>\n",
       "      <td>دنده‌ای</td>\n",
       "      <td>67500000.0</td>\n",
       "      <td>135000.0</td>\n",
       "      <td>1394</td>\n",
       "      <td>کرج</td>\n",
       "    </tr>\n",
       "    <tr>\n",
       "      <th>1</th>\n",
       "      <td>بدون رنگ</td>\n",
       "      <td>سمند LX ساده</td>\n",
       "      <td>سفید</td>\n",
       "      <td>دنده‌ای</td>\n",
       "      <td>26500000.0</td>\n",
       "      <td>70000.0</td>\n",
       "      <td>1392</td>\n",
       "      <td>اصفهان</td>\n",
       "    </tr>\n",
       "    <tr>\n",
       "      <th>2</th>\n",
       "      <td>بدون رنگ</td>\n",
       "      <td>سمند LX EF7 بنزینی</td>\n",
       "      <td>سفید</td>\n",
       "      <td>دنده‌ای</td>\n",
       "      <td>57800000.0</td>\n",
       "      <td>165000.0</td>\n",
       "      <td>1391</td>\n",
       "      <td>شیراز</td>\n",
       "    </tr>\n",
       "    <tr>\n",
       "      <th>3</th>\n",
       "      <td>بدون رنگ</td>\n",
       "      <td>سمند LX EF7 بنزینی</td>\n",
       "      <td>سفید</td>\n",
       "      <td>دنده‌ای</td>\n",
       "      <td>99500000.0</td>\n",
       "      <td>13000.0</td>\n",
       "      <td>1398</td>\n",
       "      <td>شیراز</td>\n",
       "    </tr>\n",
       "    <tr>\n",
       "      <th>4</th>\n",
       "      <td>دو لکه رنگ</td>\n",
       "      <td>سمند LX ساده</td>\n",
       "      <td>سفید</td>\n",
       "      <td>دنده‌ای</td>\n",
       "      <td>63500000.0</td>\n",
       "      <td>110500.0</td>\n",
       "      <td>1394</td>\n",
       "      <td>شیراز</td>\n",
       "    </tr>\n",
       "  </tbody>\n",
       "</table>\n",
       "</div>"
      ],
      "text/plain": [
       "         body               brand color     gear       price     usage  year  \\\n",
       "0    بدون رنگ        سمند LX ساده  سفید  دنده‌ای  67500000.0  135000.0  1394   \n",
       "1    بدون رنگ        سمند LX ساده  سفید  دنده‌ای  26500000.0   70000.0  1392   \n",
       "2    بدون رنگ  سمند LX EF7 بنزینی  سفید  دنده‌ای  57800000.0  165000.0  1391   \n",
       "3    بدون رنگ  سمند LX EF7 بنزینی  سفید  دنده‌ای  99500000.0   13000.0  1398   \n",
       "4  دو لکه رنگ        سمند LX ساده  سفید  دنده‌ای  63500000.0  110500.0  1394   \n",
       "\n",
       "    loc_1  \n",
       "0     کرج  \n",
       "1  اصفهان  \n",
       "2   شیراز  \n",
       "3   شیراز  \n",
       "4   شیراز  "
      ]
     },
     "execution_count": 8,
     "metadata": {},
     "output_type": "execute_result"
    }
   ],
   "source": [
    "crawled_data.head()"
   ]
  },
  {
   "cell_type": "markdown",
   "metadata": {},
   "source": [
    "### fixing small unsimilarities"
   ]
  },
  {
   "cell_type": "code",
   "execution_count": 9,
   "metadata": {},
   "outputs": [],
   "source": [
    "def make_same(string):\n",
    "    if string == 'Peugeot 405 GLX-petrol':\n",
    "        answer = 'پژو 405 GLX بنزینی'\n",
    "    else:\n",
    "        answer = string\n",
    "    return answer"
   ]
  },
  {
   "cell_type": "code",
   "execution_count": 10,
   "metadata": {},
   "outputs": [],
   "source": [
    "crawled_data['brand'] = crawled_data['brand'].apply(lambda x : make_same(x))"
   ]
  },
  {
   "cell_type": "markdown",
   "metadata": {},
   "source": [
    "### changing order of columns"
   ]
  },
  {
   "cell_type": "code",
   "execution_count": 11,
   "metadata": {},
   "outputs": [],
   "source": [
    "crawled_data = crawled_data[['brand','color','gear','year','body','loc_1','usage','price']]"
   ]
  },
  {
   "cell_type": "code",
   "execution_count": 12,
   "metadata": {},
   "outputs": [
    {
     "data": {
      "text/html": [
       "<div>\n",
       "<style scoped>\n",
       "    .dataframe tbody tr th:only-of-type {\n",
       "        vertical-align: middle;\n",
       "    }\n",
       "\n",
       "    .dataframe tbody tr th {\n",
       "        vertical-align: top;\n",
       "    }\n",
       "\n",
       "    .dataframe thead th {\n",
       "        text-align: right;\n",
       "    }\n",
       "</style>\n",
       "<table border=\"1\" class=\"dataframe\">\n",
       "  <thead>\n",
       "    <tr style=\"text-align: right;\">\n",
       "      <th></th>\n",
       "      <th>brand</th>\n",
       "      <th>color</th>\n",
       "      <th>gear</th>\n",
       "      <th>year</th>\n",
       "      <th>body</th>\n",
       "      <th>loc_1</th>\n",
       "      <th>usage</th>\n",
       "      <th>price</th>\n",
       "    </tr>\n",
       "  </thead>\n",
       "  <tbody>\n",
       "    <tr>\n",
       "      <th>0</th>\n",
       "      <td>سمند LX ساده</td>\n",
       "      <td>سفید</td>\n",
       "      <td>دنده‌ای</td>\n",
       "      <td>1394</td>\n",
       "      <td>بدون رنگ</td>\n",
       "      <td>کرج</td>\n",
       "      <td>135000.0</td>\n",
       "      <td>67500000.0</td>\n",
       "    </tr>\n",
       "    <tr>\n",
       "      <th>1</th>\n",
       "      <td>سمند LX ساده</td>\n",
       "      <td>سفید</td>\n",
       "      <td>دنده‌ای</td>\n",
       "      <td>1392</td>\n",
       "      <td>بدون رنگ</td>\n",
       "      <td>اصفهان</td>\n",
       "      <td>70000.0</td>\n",
       "      <td>26500000.0</td>\n",
       "    </tr>\n",
       "    <tr>\n",
       "      <th>2</th>\n",
       "      <td>سمند LX EF7 بنزینی</td>\n",
       "      <td>سفید</td>\n",
       "      <td>دنده‌ای</td>\n",
       "      <td>1391</td>\n",
       "      <td>بدون رنگ</td>\n",
       "      <td>شیراز</td>\n",
       "      <td>165000.0</td>\n",
       "      <td>57800000.0</td>\n",
       "    </tr>\n",
       "    <tr>\n",
       "      <th>3</th>\n",
       "      <td>سمند LX EF7 بنزینی</td>\n",
       "      <td>سفید</td>\n",
       "      <td>دنده‌ای</td>\n",
       "      <td>1398</td>\n",
       "      <td>بدون رنگ</td>\n",
       "      <td>شیراز</td>\n",
       "      <td>13000.0</td>\n",
       "      <td>99500000.0</td>\n",
       "    </tr>\n",
       "    <tr>\n",
       "      <th>4</th>\n",
       "      <td>سمند LX ساده</td>\n",
       "      <td>سفید</td>\n",
       "      <td>دنده‌ای</td>\n",
       "      <td>1394</td>\n",
       "      <td>دو لکه رنگ</td>\n",
       "      <td>شیراز</td>\n",
       "      <td>110500.0</td>\n",
       "      <td>63500000.0</td>\n",
       "    </tr>\n",
       "  </tbody>\n",
       "</table>\n",
       "</div>"
      ],
      "text/plain": [
       "                brand color     gear  year        body   loc_1     usage  \\\n",
       "0        سمند LX ساده  سفید  دنده‌ای  1394    بدون رنگ     کرج  135000.0   \n",
       "1        سمند LX ساده  سفید  دنده‌ای  1392    بدون رنگ  اصفهان   70000.0   \n",
       "2  سمند LX EF7 بنزینی  سفید  دنده‌ای  1391    بدون رنگ   شیراز  165000.0   \n",
       "3  سمند LX EF7 بنزینی  سفید  دنده‌ای  1398    بدون رنگ   شیراز   13000.0   \n",
       "4        سمند LX ساده  سفید  دنده‌ای  1394  دو لکه رنگ   شیراز  110500.0   \n",
       "\n",
       "        price  \n",
       "0  67500000.0  \n",
       "1  26500000.0  \n",
       "2  57800000.0  \n",
       "3  99500000.0  \n",
       "4  63500000.0  "
      ]
     },
     "execution_count": 12,
     "metadata": {},
     "output_type": "execute_result"
    }
   ],
   "source": [
    "crawled_data.head()"
   ]
  },
  {
   "cell_type": "markdown",
   "metadata": {},
   "source": [
    "### removing sampels with few occcurences"
   ]
  },
  {
   "cell_type": "markdown",
   "metadata": {},
   "source": [
    "#### brand"
   ]
  },
  {
   "cell_type": "code",
   "execution_count": 13,
   "metadata": {},
   "outputs": [
    {
     "data": {
      "text/plain": [
       "تیبا صندوق‌دار LX دوگانه‌ سوز       1\n",
       "پیکان بنزینی                        1\n",
       "تیبا صندوق‌دار SX دوگانه‌ سوز       5\n",
       "تیبا صندوق‌دار EX دوگانه سوز        7\n",
       "تیبا صندوق‌دار                      9\n",
       "پراید 111                          15\n",
       "تیبا صندوق‌دار LX                  20\n",
       "پراید 111 SL                       30\n",
       "پراید 131 TL                       48\n",
       "پراید 131                          54\n",
       "تیبا صندوق‌دار EX                  89\n",
       "سمند LX                           100\n",
       "پراید 131 LE                      104\n",
       "دنا معمولی                        117\n",
       "تیبا صندوق‌دار SX                 127\n",
       "پراید 111 EX                      128\n",
       "دنا معمولی 1700cc                 172\n",
       "جک S5 دنده‌ای                     179\n",
       "پراید 131 SL                      221\n",
       "پراید 111 SX                      224\n",
       "پراید 131 دوگانه‌ سوز             240\n",
       "سمند LX EF7 گازسوز                250\n",
       "پراید 131 SX                      383\n",
       "جک S5 اتوماتیک                    393\n",
       "سمند LX EF7 بنزینی                420\n",
       "پراید 111 SE                      473\n",
       "پراید 131 EX                      589\n",
       "سمند LX ساده                      620\n",
       "پژو پارس ساده                     963\n",
       "پژو 206 تیپ ۵                    1029\n",
       "پراید 131 SE                     1179\n",
       "پژو 405 GLX بنزینی               1434\n",
       "پژو 206 تیپ ۲                    2246\n",
       "Name: brand, dtype: int64"
      ]
     },
     "execution_count": 13,
     "metadata": {},
     "output_type": "execute_result"
    }
   ],
   "source": [
    "crawled_data['brand'].value_counts(ascending=True)"
   ]
  },
  {
   "cell_type": "markdown",
   "metadata": {},
   "source": [
    "#### first five will be removed ( less than 10 )"
   ]
  },
  {
   "cell_type": "code",
   "execution_count": 14,
   "metadata": {},
   "outputs": [],
   "source": [
    "brands_to_remove = list(crawled_data['brand'].value_counts(ascending=True)[:5].index)"
   ]
  },
  {
   "cell_type": "code",
   "execution_count": 15,
   "metadata": {},
   "outputs": [
    {
     "data": {
      "text/plain": [
       "['تیبا صندوق\\u200cدار LX دوگانه\\u200c سوز',\n",
       " 'پیکان بنزینی',\n",
       " 'تیبا صندوق\\u200cدار SX دوگانه\\u200c سوز',\n",
       " 'تیبا صندوق\\u200cدار EX دوگانه سوز',\n",
       " 'تیبا صندوق\\u200cدار']"
      ]
     },
     "execution_count": 15,
     "metadata": {},
     "output_type": "execute_result"
    }
   ],
   "source": [
    "brands_to_remove"
   ]
  },
  {
   "cell_type": "markdown",
   "metadata": {},
   "source": [
    "#### color"
   ]
  },
  {
   "cell_type": "code",
   "execution_count": 16,
   "metadata": {},
   "outputs": [
    {
     "data": {
      "text/plain": [
       "کرم              1\n",
       "کربن‌بلک         1\n",
       "طلایی            2\n",
       "برنز             2\n",
       "تیتانیوم         3\n",
       "نارنجی           5\n",
       "پوست‌پیازی       7\n",
       "زرشکی            8\n",
       "طوسی            11\n",
       "بنفش            12\n",
       "سربی            12\n",
       "اطلسی           12\n",
       "بادمجانی        15\n",
       "گیلاسی          18\n",
       "ذغالی           22\n",
       "زیتونی          23\n",
       "قرمز            24\n",
       "مسی             27\n",
       "قهوه‌ای         28\n",
       "سبز             32\n",
       "عنابی           36\n",
       "نقرآبی          62\n",
       "آلبالویی        64\n",
       "سرمه‌ای         68\n",
       "زرد             70\n",
       "دلفینی         159\n",
       "آبی            165\n",
       "یشمی           179\n",
       "بژ             272\n",
       "سفید صدفی      302\n",
       "نوک‌مدادی      595\n",
       "خاکستری        917\n",
       "مشکی           918\n",
       "نقره‌ای       1652\n",
       "سفید          6146\n",
       "Name: color, dtype: int64"
      ]
     },
     "execution_count": 16,
     "metadata": {},
     "output_type": "execute_result"
    }
   ],
   "source": [
    "crawled_data['color'].value_counts(ascending=True)"
   ]
  },
  {
   "cell_type": "markdown",
   "metadata": {},
   "source": [
    "#### first eight will be removed (less than 10)"
   ]
  },
  {
   "cell_type": "code",
   "execution_count": 17,
   "metadata": {},
   "outputs": [],
   "source": [
    "colors_to_remove = list(crawled_data['color'].value_counts(ascending=True)[:8].index)"
   ]
  },
  {
   "cell_type": "code",
   "execution_count": 18,
   "metadata": {},
   "outputs": [
    {
     "data": {
      "text/plain": [
       "['کرم',\n",
       " 'کربن\\u200cبلک',\n",
       " 'طلایی',\n",
       " 'برنز',\n",
       " 'تیتانیوم',\n",
       " 'نارنجی',\n",
       " 'پوست\\u200cپیازی',\n",
       " 'زرشکی']"
      ]
     },
     "execution_count": 18,
     "metadata": {},
     "output_type": "execute_result"
    }
   ],
   "source": [
    "colors_to_remove"
   ]
  },
  {
   "cell_type": "markdown",
   "metadata": {},
   "source": [
    "#### gear"
   ]
  },
  {
   "cell_type": "code",
   "execution_count": 19,
   "metadata": {},
   "outputs": [
    {
     "data": {
      "text/plain": [
       "اتوماتیک      411\n",
       "دنده‌ای     11459\n",
       "Name: gear, dtype: int64"
      ]
     },
     "execution_count": 19,
     "metadata": {},
     "output_type": "execute_result"
    }
   ],
   "source": [
    "crawled_data['gear'].value_counts(ascending=True)"
   ]
  },
  {
   "cell_type": "markdown",
   "metadata": {},
   "source": [
    "#### year"
   ]
  },
  {
   "cell_type": "code",
   "execution_count": 20,
   "metadata": {},
   "outputs": [
    {
     "data": {
      "text/plain": [
       "1369       1\n",
       "1375       7\n",
       "1373       7\n",
       "1374       9\n",
       "1376      15\n",
       "1377      35\n",
       "1378      44\n",
       "1379      49\n",
       "1380      82\n",
       "1381     244\n",
       "1386     354\n",
       "1387     360\n",
       "1392     423\n",
       "1382     434\n",
       "1391     440\n",
       "1385     453\n",
       "1389     468\n",
       "1384     507\n",
       "1388     509\n",
       "1383     602\n",
       "1393     634\n",
       "1390     664\n",
       "1394     751\n",
       "1398     934\n",
       "1395    1153\n",
       "1397    1177\n",
       "1396    1514\n",
       "Name: year, dtype: int64"
      ]
     },
     "execution_count": 20,
     "metadata": {},
     "output_type": "execute_result"
    }
   ],
   "source": [
    "crawled_data['year'].value_counts(ascending=True)"
   ]
  },
  {
   "cell_type": "markdown",
   "metadata": {},
   "source": [
    "#### first four will be removed (less than 10)"
   ]
  },
  {
   "cell_type": "code",
   "execution_count": 21,
   "metadata": {},
   "outputs": [],
   "source": [
    "years_to_remove = list(crawled_data['year'].value_counts(ascending=True)[:4].index)"
   ]
  },
  {
   "cell_type": "code",
   "execution_count": 22,
   "metadata": {},
   "outputs": [
    {
     "data": {
      "text/plain": [
       "[1369, 1375, 1373, 1374]"
      ]
     },
     "execution_count": 22,
     "metadata": {},
     "output_type": "execute_result"
    }
   ],
   "source": [
    "years_to_remove"
   ]
  },
  {
   "cell_type": "markdown",
   "metadata": {},
   "source": [
    "#### body"
   ]
  },
  {
   "cell_type": "code",
   "execution_count": 23,
   "metadata": {},
   "outputs": [
    {
     "data": {
      "text/plain": [
       "یک لکه رنگ     1482\n",
       "دو لکه رنگ     1625\n",
       "چند لکه رنگ    3277\n",
       "بدون رنگ       5486\n",
       "Name: body, dtype: int64"
      ]
     },
     "execution_count": 23,
     "metadata": {},
     "output_type": "execute_result"
    }
   ],
   "source": [
    "crawled_data['body'].value_counts(ascending=True)"
   ]
  },
  {
   "cell_type": "markdown",
   "metadata": {},
   "source": [
    "#### Location"
   ]
  },
  {
   "cell_type": "code",
   "execution_count": 24,
   "metadata": {},
   "outputs": [
    {
     "data": {
      "text/plain": [
       "رشت          286\n",
       "قم           318\n",
       "اهواز        430\n",
       "کرمانشاه     482\n",
       "تبریز        625\n",
       "شیراز        964\n",
       "اصفهان      1057\n",
       "کرج         1311\n",
       "مشهد        1669\n",
       "تهران       4728\n",
       "Name: loc_1, dtype: int64"
      ]
     },
     "execution_count": 24,
     "metadata": {},
     "output_type": "execute_result"
    }
   ],
   "source": [
    "crawled_data['loc_1'].value_counts(ascending=True)"
   ]
  },
  {
   "cell_type": "markdown",
   "metadata": {},
   "source": [
    "### Removing"
   ]
  },
  {
   "cell_type": "code",
   "execution_count": 25,
   "metadata": {},
   "outputs": [],
   "source": [
    "indices_to_remove = []\n",
    "for i in range (len(crawled_data)):\n",
    "    flag = 0\n",
    "    for j in [0,1,3]:\n",
    "        if j == 0 and crawled_data.iloc[i,0] in brands_to_remove :\n",
    "            flag = 1\n",
    "        elif j == 1 and crawled_data.iloc[i,1] in colors_to_remove :\n",
    "            flag = 1\n",
    "        elif j == 3 and crawled_data.iloc[i,3] in years_to_remove :\n",
    "            flag = 1\n",
    "    if flag == 1:\n",
    "        indices_to_remove.append(i)"
   ]
  },
  {
   "cell_type": "code",
   "execution_count": 26,
   "metadata": {},
   "outputs": [
    {
     "data": {
      "text/plain": [
       "75"
      ]
     },
     "execution_count": 26,
     "metadata": {},
     "output_type": "execute_result"
    }
   ],
   "source": [
    "len(indices_to_remove)"
   ]
  },
  {
   "cell_type": "code",
   "execution_count": 27,
   "metadata": {},
   "outputs": [],
   "source": [
    "crawled_data = crawled_data.drop(indices_to_remove,axis=0)"
   ]
  },
  {
   "cell_type": "code",
   "execution_count": 28,
   "metadata": {},
   "outputs": [
    {
     "name": "stdout",
     "output_type": "stream",
     "text": [
      "minimum number of certain brand = 15\n",
      "minimum number of certain color = 9\n",
      "minimum number of certain year = 15\n"
     ]
    }
   ],
   "source": [
    "print('minimum number of certain brand =',list(crawled_data['brand'].value_counts(ascending=True))[0])\n",
    "print('minimum number of certain color =',list(crawled_data['color'].value_counts(ascending=True))[0])\n",
    "print('minimum number of certain year =',list(crawled_data['year'].value_counts(ascending=True))[0])"
   ]
  },
  {
   "cell_type": "markdown",
   "metadata": {},
   "source": [
    "### Removing Invalid Prices"
   ]
  },
  {
   "cell_type": "code",
   "execution_count": 29,
   "metadata": {},
   "outputs": [],
   "source": [
    "def remove_invalid_price(price):\n",
    "    is_valid = 1\n",
    "    price = str(int(price))\n",
    "    if price[len(price)-3:len(price)] != '000':\n",
    "        is_valid = 0\n",
    "    if len(price) < 7:\n",
    "        is_valid = 0\n",
    "    return is_valid"
   ]
  },
  {
   "cell_type": "code",
   "execution_count": 30,
   "metadata": {},
   "outputs": [],
   "source": [
    "crawled_data['valid_invalid_price'] = crawled_data['price'].apply(lambda x : remove_invalid_price(x))"
   ]
  },
  {
   "cell_type": "markdown",
   "metadata": {},
   "source": [
    "#### Invalid Prices"
   ]
  },
  {
   "cell_type": "code",
   "execution_count": 31,
   "metadata": {},
   "outputs": [
    {
     "data": {
      "text/plain": [
       "31       11111111.0\n",
       "87            360.0\n",
       "161      11111111.0\n",
       "261           360.0\n",
       "379           360.0\n",
       "            ...    \n",
       "10943     1234567.0\n",
       "11623         360.0\n",
       "11693     1111111.0\n",
       "11730         360.0\n",
       "11742         360.0\n",
       "Name: price, Length: 130, dtype: float64"
      ]
     },
     "execution_count": 31,
     "metadata": {},
     "output_type": "execute_result"
    }
   ],
   "source": [
    "crawled_data[crawled_data['valid_invalid_price']==0]['price']"
   ]
  },
  {
   "cell_type": "code",
   "execution_count": 32,
   "metadata": {},
   "outputs": [
    {
     "name": "stdout",
     "output_type": "stream",
     "text": [
      "number of invalid prices = 130\n"
     ]
    }
   ],
   "source": [
    "print('number of invalid prices =',len(list(crawled_data[crawled_data['valid_invalid_price']==0].index)))"
   ]
  },
  {
   "cell_type": "code",
   "execution_count": 33,
   "metadata": {},
   "outputs": [],
   "source": [
    "crawled_data = crawled_data.drop(list(crawled_data[crawled_data['valid_invalid_price']==0].index),axis=0)"
   ]
  },
  {
   "cell_type": "code",
   "execution_count": 34,
   "metadata": {},
   "outputs": [],
   "source": [
    "crawled_data = crawled_data.drop('valid_invalid_price',axis=1)"
   ]
  },
  {
   "cell_type": "code",
   "execution_count": 35,
   "metadata": {},
   "outputs": [
    {
     "data": {
      "text/plain": [
       "(11665, 8)"
      ]
     },
     "execution_count": 35,
     "metadata": {},
     "output_type": "execute_result"
    }
   ],
   "source": [
    "crawled_data.shape"
   ]
  },
  {
   "cell_type": "markdown",
   "metadata": {},
   "source": [
    "### Dealing with outliers"
   ]
  },
  {
   "cell_type": "markdown",
   "metadata": {},
   "source": [
    "#### Price"
   ]
  },
  {
   "cell_type": "code",
   "execution_count": 36,
   "metadata": {},
   "outputs": [
    {
     "data": {
      "text/plain": [
       "count    1.166500e+04\n",
       "mean     5.991166e+07\n",
       "std      4.873199e+07\n",
       "min      1.000000e+06\n",
       "25%      3.500000e+07\n",
       "50%      4.680000e+07\n",
       "75%      7.100000e+07\n",
       "max      1.280000e+09\n",
       "Name: price, dtype: float64"
      ]
     },
     "execution_count": 36,
     "metadata": {},
     "output_type": "execute_result"
    }
   ],
   "source": [
    "crawled_data['price'].describe()"
   ]
  },
  {
   "cell_type": "code",
   "execution_count": 37,
   "metadata": {},
   "outputs": [
    {
     "data": {
      "text/plain": [
       "<matplotlib.axes._subplots.AxesSubplot at 0x4193a88>"
      ]
     },
     "execution_count": 37,
     "metadata": {},
     "output_type": "execute_result"
    },
    {
     "data": {
      "image/png": "[encoded data removed]",
      "text/plain": [
       "<Figure size 432x288 with 1 Axes>"
      ]
     },
     "metadata": {},
     "output_type": "display_data"
    }
   ],
   "source": [
    "sns.distplot(crawled_data['price'])"
   ]
  },
  {
   "cell_type": "code",
   "execution_count": 38,
   "metadata": {},
   "outputs": [
    {
     "data": {
      "text/plain": [
       "282180000.0000003"
      ]
     },
     "execution_count": 38,
     "metadata": {},
     "output_type": "execute_result"
    }
   ],
   "source": [
    "q = crawled_data['price'].quantile(0.99)\n",
    "q"
   ]
  },
  {
   "cell_type": "code",
   "execution_count": 39,
   "metadata": {},
   "outputs": [
    {
     "data": {
      "text/plain": [
       "<matplotlib.axes._subplots.AxesSubplot at 0x1607ea08>"
      ]
     },
     "execution_count": 39,
     "metadata": {},
     "output_type": "execute_result"
    },
    {
     "data": {
      "image/png": "[encoded data removed]",
      "text/plain": [
       "<Figure size 432x288 with 1 Axes>"
      ]
     },
     "metadata": {},
     "output_type": "display_data"
    }
   ],
   "source": [
    "crawled_data = crawled_data[crawled_data['price']<q]\n",
    "sns.distplot(crawled_data['price'])"
   ]
  },
  {
   "cell_type": "markdown",
   "metadata": {},
   "source": [
    "#### Usage"
   ]
  },
  {
   "cell_type": "code",
   "execution_count": 40,
   "metadata": {},
   "outputs": [
    {
     "data": {
      "text/plain": [
       "count     11548.000000\n",
       "mean      96289.417388\n",
       "std      107714.279109\n",
       "min           0.000000\n",
       "25%         300.000000\n",
       "50%       60000.000000\n",
       "75%      160000.000000\n",
       "max      500000.000000\n",
       "Name: usage, dtype: float64"
      ]
     },
     "execution_count": 40,
     "metadata": {},
     "output_type": "execute_result"
    }
   ],
   "source": [
    "crawled_data['usage'].describe()"
   ]
  },
  {
   "cell_type": "code",
   "execution_count": 41,
   "metadata": {},
   "outputs": [
    {
     "data": {
      "text/plain": [
       "<matplotlib.axes._subplots.AxesSubplot at 0x1614a508>"
      ]
     },
     "execution_count": 41,
     "metadata": {},
     "output_type": "execute_result"
    },
    {
     "data": {
      "image/png": "[encoded data removed]",
      "text/plain": [
       "<Figure size 432x288 with 1 Axes>"
      ]
     },
     "metadata": {},
     "output_type": "display_data"
    }
   ],
   "source": [
    "sns.distplot(crawled_data['usage'])"
   ]
  },
  {
   "cell_type": "code",
   "execution_count": 42,
   "metadata": {},
   "outputs": [
    {
     "data": {
      "text/plain": [
       "400000.0"
      ]
     },
     "execution_count": 42,
     "metadata": {},
     "output_type": "execute_result"
    }
   ],
   "source": [
    "q = crawled_data['usage'].quantile(0.99)\n",
    "q"
   ]
  },
  {
   "cell_type": "code",
   "execution_count": 43,
   "metadata": {},
   "outputs": [
    {
     "data": {
      "text/plain": [
       "<matplotlib.axes._subplots.AxesSubplot at 0x161f0408>"
      ]
     },
     "execution_count": 43,
     "metadata": {},
     "output_type": "execute_result"
    },
    {
     "data": {
      "image/png": "[encoded data removed]",
      "text/plain": [
       "<Figure size 432x288 with 1 Axes>"
      ]
     },
     "metadata": {},
     "output_type": "display_data"
    }
   ],
   "source": [
    "crawled_data = crawled_data[crawled_data['usage']<q]\n",
    "sns.distplot(crawled_data['usage'])"
   ]
  },
  {
   "cell_type": "code",
   "execution_count": 44,
   "metadata": {},
   "outputs": [
    {
     "data": {
      "text/plain": [
       "(11372, 8)"
      ]
     },
     "execution_count": 44,
     "metadata": {},
     "output_type": "execute_result"
    }
   ],
   "source": [
    "crawled_data.shape"
   ]
  },
  {
   "cell_type": "code",
   "execution_count": 45,
   "metadata": {},
   "outputs": [
    {
     "name": "stdout",
     "output_type": "stream",
     "text": [
      "removed records = 11870 - 11372 = 498\n"
     ]
    }
   ],
   "source": [
    "print('removed records = 11870 - 11372 =',11870 - 11372)"
   ]
  },
  {
   "cell_type": "markdown",
   "metadata": {},
   "source": [
    "### Shuffling Data"
   ]
  },
  {
   "cell_type": "code",
   "execution_count": 46,
   "metadata": {},
   "outputs": [],
   "source": [
    "crawled_data = crawled_data.sample(frac=1).reset_index(drop = True)"
   ]
  },
  {
   "cell_type": "markdown",
   "metadata": {},
   "source": [
    "### Saving and Loading"
   ]
  },
  {
   "cell_type": "code",
   "execution_count": 47,
   "metadata": {},
   "outputs": [],
   "source": [
    "# crawled_data.to_csv('cleaned_data.csv')"
   ]
  },
  {
   "cell_type": "code",
   "execution_count": 3,
   "metadata": {},
   "outputs": [
    {
     "data": {
      "text/html": [
       "<div>\n",
       "<style scoped>\n",
       "    .dataframe tbody tr th:only-of-type {\n",
       "        vertical-align: middle;\n",
       "    }\n",
       "\n",
       "    .dataframe tbody tr th {\n",
       "        vertical-align: top;\n",
       "    }\n",
       "\n",
       "    .dataframe thead th {\n",
       "        text-align: right;\n",
       "    }\n",
       "</style>\n",
       "<table border=\"1\" class=\"dataframe\">\n",
       "  <thead>\n",
       "    <tr style=\"text-align: right;\">\n",
       "      <th></th>\n",
       "      <th>brand</th>\n",
       "      <th>color</th>\n",
       "      <th>gear</th>\n",
       "      <th>year</th>\n",
       "      <th>body</th>\n",
       "      <th>loc_1</th>\n",
       "      <th>usage</th>\n",
       "      <th>price</th>\n",
       "    </tr>\n",
       "  </thead>\n",
       "  <tbody>\n",
       "    <tr>\n",
       "      <th>0</th>\n",
       "      <td>پژو 405 GLX بنزینی</td>\n",
       "      <td>خاکستری</td>\n",
       "      <td>دنده‌ای</td>\n",
       "      <td>1397</td>\n",
       "      <td>بدون رنگ</td>\n",
       "      <td>قم</td>\n",
       "      <td>55000.0</td>\n",
       "      <td>70000000.0</td>\n",
       "    </tr>\n",
       "    <tr>\n",
       "      <th>1</th>\n",
       "      <td>پراید 111 EX</td>\n",
       "      <td>آبی</td>\n",
       "      <td>دنده‌ای</td>\n",
       "      <td>1392</td>\n",
       "      <td>یک لکه رنگ</td>\n",
       "      <td>شیراز</td>\n",
       "      <td>40000.0</td>\n",
       "      <td>34000000.0</td>\n",
       "    </tr>\n",
       "    <tr>\n",
       "      <th>2</th>\n",
       "      <td>پژو 206 تیپ ۲</td>\n",
       "      <td>نقره‌ای</td>\n",
       "      <td>دنده‌ای</td>\n",
       "      <td>1384</td>\n",
       "      <td>چند لکه رنگ</td>\n",
       "      <td>شیراز</td>\n",
       "      <td>300000.0</td>\n",
       "      <td>36500000.0</td>\n",
       "    </tr>\n",
       "    <tr>\n",
       "      <th>3</th>\n",
       "      <td>پراید 131 SE</td>\n",
       "      <td>سفید صدفی</td>\n",
       "      <td>دنده‌ای</td>\n",
       "      <td>1386</td>\n",
       "      <td>یک لکه رنگ</td>\n",
       "      <td>تبریز</td>\n",
       "      <td>250.0</td>\n",
       "      <td>27200000.0</td>\n",
       "    </tr>\n",
       "    <tr>\n",
       "      <th>4</th>\n",
       "      <td>پراید 131 SE</td>\n",
       "      <td>زیتونی</td>\n",
       "      <td>دنده‌ای</td>\n",
       "      <td>1387</td>\n",
       "      <td>چند لکه رنگ</td>\n",
       "      <td>مشهد</td>\n",
       "      <td>277.0</td>\n",
       "      <td>30000000.0</td>\n",
       "    </tr>\n",
       "  </tbody>\n",
       "</table>\n",
       "</div>"
      ],
      "text/plain": [
       "                brand      color     gear  year         body  loc_1     usage  \\\n",
       "0  پژو 405 GLX بنزینی    خاکستری  دنده‌ای  1397     بدون رنگ     قم   55000.0   \n",
       "1        پراید 111 EX        آبی  دنده‌ای  1392   یک لکه رنگ  شیراز   40000.0   \n",
       "2       پژو 206 تیپ ۲    نقره‌ای  دنده‌ای  1384  چند لکه رنگ  شیراز  300000.0   \n",
       "3        پراید 131 SE  سفید صدفی  دنده‌ای  1386   یک لکه رنگ  تبریز     250.0   \n",
       "4        پراید 131 SE     زیتونی  دنده‌ای  1387  چند لکه رنگ   مشهد     277.0   \n",
       "\n",
       "        price  \n",
       "0  70000000.0  \n",
       "1  34000000.0  \n",
       "2  36500000.0  \n",
       "3  27200000.0  \n",
       "4  30000000.0  "
      ]
     },
     "execution_count": 3,
     "metadata": {},
     "output_type": "execute_result"
    }
   ],
   "source": [
    "cleaned_data = pd.read_csv('cleaned_data.csv').drop('Unnamed: 0',axis=1)\n",
    "cleaned_data.head()"
   ]
  },
  {
   "cell_type": "code",
   "execution_count": 49,
   "metadata": {},
   "outputs": [
    {
     "data": {
      "text/plain": [
       "(11372, 8)"
      ]
     },
     "execution_count": 49,
     "metadata": {},
     "output_type": "execute_result"
    }
   ],
   "source": [
    "cleaned_data.shape"
   ]
  },
  {
   "cell_type": "code",
   "execution_count": 119,
   "metadata": {},
   "outputs": [
    {
     "data": {
      "text/html": [
       "<div>\n",
       "<style scoped>\n",
       "    .dataframe tbody tr th:only-of-type {\n",
       "        vertical-align: middle;\n",
       "    }\n",
       "\n",
       "    .dataframe tbody tr th {\n",
       "        vertical-align: top;\n",
       "    }\n",
       "\n",
       "    .dataframe thead th {\n",
       "        text-align: right;\n",
       "    }\n",
       "</style>\n",
       "<table border=\"1\" class=\"dataframe\">\n",
       "  <thead>\n",
       "    <tr style=\"text-align: right;\">\n",
       "      <th></th>\n",
       "      <th>brand</th>\n",
       "      <th>color</th>\n",
       "      <th>gear</th>\n",
       "      <th>year</th>\n",
       "      <th>body</th>\n",
       "      <th>loc_1</th>\n",
       "      <th>usage</th>\n",
       "      <th>price</th>\n",
       "    </tr>\n",
       "  </thead>\n",
       "  <tbody>\n",
       "    <tr>\n",
       "      <th>0</th>\n",
       "      <td>سمند LX ساده</td>\n",
       "      <td>سفید</td>\n",
       "      <td>دنده‌ای</td>\n",
       "      <td>1394.0</td>\n",
       "      <td>بدون رنگ</td>\n",
       "      <td>کرج</td>\n",
       "      <td>135000.0</td>\n",
       "      <td>67500000.0</td>\n",
       "    </tr>\n",
       "    <tr>\n",
       "      <th>1</th>\n",
       "      <td>سمند LX ساده</td>\n",
       "      <td>سفید</td>\n",
       "      <td>دنده‌ای</td>\n",
       "      <td>1392.0</td>\n",
       "      <td>بدون رنگ</td>\n",
       "      <td>اصفهان</td>\n",
       "      <td>70000.0</td>\n",
       "      <td>26500000.0</td>\n",
       "    </tr>\n",
       "    <tr>\n",
       "      <th>2</th>\n",
       "      <td>سمند LX EF7 بنزینی</td>\n",
       "      <td>سفید</td>\n",
       "      <td>دنده‌ای</td>\n",
       "      <td>1391.0</td>\n",
       "      <td>بدون رنگ</td>\n",
       "      <td>شیراز</td>\n",
       "      <td>165000.0</td>\n",
       "      <td>57800000.0</td>\n",
       "    </tr>\n",
       "    <tr>\n",
       "      <th>3</th>\n",
       "      <td>سمند LX EF7 بنزینی</td>\n",
       "      <td>سفید</td>\n",
       "      <td>دنده‌ای</td>\n",
       "      <td>1398.0</td>\n",
       "      <td>بدون رنگ</td>\n",
       "      <td>شیراز</td>\n",
       "      <td>13000.0</td>\n",
       "      <td>99500000.0</td>\n",
       "    </tr>\n",
       "    <tr>\n",
       "      <th>4</th>\n",
       "      <td>سمند LX ساده</td>\n",
       "      <td>سفید</td>\n",
       "      <td>دنده‌ای</td>\n",
       "      <td>1394.0</td>\n",
       "      <td>دو لکه رنگ</td>\n",
       "      <td>شیراز</td>\n",
       "      <td>110500.0</td>\n",
       "      <td>63500000.0</td>\n",
       "    </tr>\n",
       "    <tr>\n",
       "      <th>...</th>\n",
       "      <td>...</td>\n",
       "      <td>...</td>\n",
       "      <td>...</td>\n",
       "      <td>...</td>\n",
       "      <td>...</td>\n",
       "      <td>...</td>\n",
       "      <td>...</td>\n",
       "      <td>...</td>\n",
       "    </tr>\n",
       "    <tr>\n",
       "      <th>11368</th>\n",
       "      <td>پژو 206 تیپ ۵</td>\n",
       "      <td>سفید</td>\n",
       "      <td>دنده‌ای</td>\n",
       "      <td>1396.0</td>\n",
       "      <td>بدون رنگ</td>\n",
       "      <td>اصفهان</td>\n",
       "      <td>40000.0</td>\n",
       "      <td>90500000.0</td>\n",
       "    </tr>\n",
       "    <tr>\n",
       "      <th>11369</th>\n",
       "      <td>پژو 206 تیپ ۵</td>\n",
       "      <td>سفید</td>\n",
       "      <td>دنده‌ای</td>\n",
       "      <td>1394.0</td>\n",
       "      <td>دو لکه رنگ</td>\n",
       "      <td>اصفهان</td>\n",
       "      <td>69000.0</td>\n",
       "      <td>81000000.0</td>\n",
       "    </tr>\n",
       "    <tr>\n",
       "      <th>11370</th>\n",
       "      <td>پژو 206 تیپ ۵</td>\n",
       "      <td>سفید</td>\n",
       "      <td>دنده‌ای</td>\n",
       "      <td>1394.0</td>\n",
       "      <td>بدون رنگ</td>\n",
       "      <td>اصفهان</td>\n",
       "      <td>95000.0</td>\n",
       "      <td>78000000.0</td>\n",
       "    </tr>\n",
       "    <tr>\n",
       "      <th>11371</th>\n",
       "      <td>پژو 206 تیپ ۵</td>\n",
       "      <td>سفید</td>\n",
       "      <td>دنده‌ای</td>\n",
       "      <td>1395.0</td>\n",
       "      <td>بدون رنگ</td>\n",
       "      <td>اصفهان</td>\n",
       "      <td>80000.0</td>\n",
       "      <td>92500000.0</td>\n",
       "    </tr>\n",
       "    <tr>\n",
       "      <th>11372</th>\n",
       "      <td>1</td>\n",
       "      <td>2</td>\n",
       "      <td>3</td>\n",
       "      <td>NaN</td>\n",
       "      <td>NaN</td>\n",
       "      <td>NaN</td>\n",
       "      <td>NaN</td>\n",
       "      <td>NaN</td>\n",
       "    </tr>\n",
       "  </tbody>\n",
       "</table>\n",
       "<p>11373 rows × 8 columns</p>\n",
       "</div>"
      ],
      "text/plain": [
       "                    brand color     gear    year        body   loc_1  \\\n",
       "0            سمند LX ساده  سفید  دنده‌ای  1394.0    بدون رنگ     کرج   \n",
       "1            سمند LX ساده  سفید  دنده‌ای  1392.0    بدون رنگ  اصفهان   \n",
       "2      سمند LX EF7 بنزینی  سفید  دنده‌ای  1391.0    بدون رنگ   شیراز   \n",
       "3      سمند LX EF7 بنزینی  سفید  دنده‌ای  1398.0    بدون رنگ   شیراز   \n",
       "4            سمند LX ساده  سفید  دنده‌ای  1394.0  دو لکه رنگ   شیراز   \n",
       "...                   ...   ...      ...     ...         ...     ...   \n",
       "11368       پژو 206 تیپ ۵  سفید  دنده‌ای  1396.0    بدون رنگ  اصفهان   \n",
       "11369       پژو 206 تیپ ۵  سفید  دنده‌ای  1394.0  دو لکه رنگ  اصفهان   \n",
       "11370       پژو 206 تیپ ۵  سفید  دنده‌ای  1394.0    بدون رنگ  اصفهان   \n",
       "11371       پژو 206 تیپ ۵  سفید  دنده‌ای  1395.0    بدون رنگ  اصفهان   \n",
       "11372                   1     2        3     NaN         NaN     NaN   \n",
       "\n",
       "          usage       price  \n",
       "0      135000.0  67500000.0  \n",
       "1       70000.0  26500000.0  \n",
       "2      165000.0  57800000.0  \n",
       "3       13000.0  99500000.0  \n",
       "4      110500.0  63500000.0  \n",
       "...         ...         ...  \n",
       "11368   40000.0  90500000.0  \n",
       "11369   69000.0  81000000.0  \n",
       "11370   95000.0  78000000.0  \n",
       "11371   80000.0  92500000.0  \n",
       "11372       NaN         NaN  \n",
       "\n",
       "[11373 rows x 8 columns]"
      ]
     },
     "execution_count": 119,
     "metadata": {},
     "output_type": "execute_result"
    }
   ],
   "source": [
    "cleaned_data.append({'brand':'1','color':'2','gear':'3'},ignore_index=True)"
   ]
  },
  {
   "cell_type": "markdown",
   "metadata": {},
   "source": [
    "## Encoding Data For Regression"
   ]
  },
  {
   "cell_type": "code",
   "execution_count": 10,
   "metadata": {},
   "outputs": [],
   "source": [
    "reg_encoded = pd.get_dummies(cleaned_data,drop_first=True)"
   ]
  },
  {
   "cell_type": "code",
   "execution_count": 11,
   "metadata": {},
   "outputs": [
    {
     "data": {
      "text/html": [
       "<div>\n",
       "<style scoped>\n",
       "    .dataframe tbody tr th:only-of-type {\n",
       "        vertical-align: middle;\n",
       "    }\n",
       "\n",
       "    .dataframe tbody tr th {\n",
       "        vertical-align: top;\n",
       "    }\n",
       "\n",
       "    .dataframe thead th {\n",
       "        text-align: right;\n",
       "    }\n",
       "</style>\n",
       "<table border=\"1\" class=\"dataframe\">\n",
       "  <thead>\n",
       "    <tr style=\"text-align: right;\">\n",
       "      <th></th>\n",
       "      <th>year</th>\n",
       "      <th>usage</th>\n",
       "      <th>price</th>\n",
       "      <th>brand_تیبا صندوق‌دار LX</th>\n",
       "      <th>brand_تیبا صندوق‌دار SX</th>\n",
       "      <th>brand_جک S5 اتوماتیک</th>\n",
       "      <th>brand_جک S5 دنده‌ای</th>\n",
       "      <th>brand_دنا معمولی</th>\n",
       "      <th>brand_دنا معمولی 1700cc</th>\n",
       "      <th>brand_سمند LX</th>\n",
       "      <th>...</th>\n",
       "      <th>body_یک لکه رنگ</th>\n",
       "      <th>loc_1_اهواز</th>\n",
       "      <th>loc_1_تبریز</th>\n",
       "      <th>loc_1_تهران</th>\n",
       "      <th>loc_1_رشت</th>\n",
       "      <th>loc_1_شیراز</th>\n",
       "      <th>loc_1_قم</th>\n",
       "      <th>loc_1_مشهد</th>\n",
       "      <th>loc_1_کرج</th>\n",
       "      <th>loc_1_کرمانشاه</th>\n",
       "    </tr>\n",
       "  </thead>\n",
       "  <tbody>\n",
       "    <tr>\n",
       "      <th>0</th>\n",
       "      <td>1397</td>\n",
       "      <td>55000.0</td>\n",
       "      <td>70000000.0</td>\n",
       "      <td>0</td>\n",
       "      <td>0</td>\n",
       "      <td>0</td>\n",
       "      <td>0</td>\n",
       "      <td>0</td>\n",
       "      <td>0</td>\n",
       "      <td>0</td>\n",
       "      <td>...</td>\n",
       "      <td>0</td>\n",
       "      <td>0</td>\n",
       "      <td>0</td>\n",
       "      <td>0</td>\n",
       "      <td>0</td>\n",
       "      <td>0</td>\n",
       "      <td>1</td>\n",
       "      <td>0</td>\n",
       "      <td>0</td>\n",
       "      <td>0</td>\n",
       "    </tr>\n",
       "    <tr>\n",
       "      <th>1</th>\n",
       "      <td>1392</td>\n",
       "      <td>40000.0</td>\n",
       "      <td>34000000.0</td>\n",
       "      <td>0</td>\n",
       "      <td>0</td>\n",
       "      <td>0</td>\n",
       "      <td>0</td>\n",
       "      <td>0</td>\n",
       "      <td>0</td>\n",
       "      <td>0</td>\n",
       "      <td>...</td>\n",
       "      <td>1</td>\n",
       "      <td>0</td>\n",
       "      <td>0</td>\n",
       "      <td>0</td>\n",
       "      <td>0</td>\n",
       "      <td>1</td>\n",
       "      <td>0</td>\n",
       "      <td>0</td>\n",
       "      <td>0</td>\n",
       "      <td>0</td>\n",
       "    </tr>\n",
       "    <tr>\n",
       "      <th>2</th>\n",
       "      <td>1384</td>\n",
       "      <td>300000.0</td>\n",
       "      <td>36500000.0</td>\n",
       "      <td>0</td>\n",
       "      <td>0</td>\n",
       "      <td>0</td>\n",
       "      <td>0</td>\n",
       "      <td>0</td>\n",
       "      <td>0</td>\n",
       "      <td>0</td>\n",
       "      <td>...</td>\n",
       "      <td>0</td>\n",
       "      <td>0</td>\n",
       "      <td>0</td>\n",
       "      <td>0</td>\n",
       "      <td>0</td>\n",
       "      <td>1</td>\n",
       "      <td>0</td>\n",
       "      <td>0</td>\n",
       "      <td>0</td>\n",
       "      <td>0</td>\n",
       "    </tr>\n",
       "    <tr>\n",
       "      <th>3</th>\n",
       "      <td>1386</td>\n",
       "      <td>250.0</td>\n",
       "      <td>27200000.0</td>\n",
       "      <td>0</td>\n",
       "      <td>0</td>\n",
       "      <td>0</td>\n",
       "      <td>0</td>\n",
       "      <td>0</td>\n",
       "      <td>0</td>\n",
       "      <td>0</td>\n",
       "      <td>...</td>\n",
       "      <td>1</td>\n",
       "      <td>0</td>\n",
       "      <td>1</td>\n",
       "      <td>0</td>\n",
       "      <td>0</td>\n",
       "      <td>0</td>\n",
       "      <td>0</td>\n",
       "      <td>0</td>\n",
       "      <td>0</td>\n",
       "      <td>0</td>\n",
       "    </tr>\n",
       "    <tr>\n",
       "      <th>4</th>\n",
       "      <td>1387</td>\n",
       "      <td>277.0</td>\n",
       "      <td>30000000.0</td>\n",
       "      <td>0</td>\n",
       "      <td>0</td>\n",
       "      <td>0</td>\n",
       "      <td>0</td>\n",
       "      <td>0</td>\n",
       "      <td>0</td>\n",
       "      <td>0</td>\n",
       "      <td>...</td>\n",
       "      <td>0</td>\n",
       "      <td>0</td>\n",
       "      <td>0</td>\n",
       "      <td>0</td>\n",
       "      <td>0</td>\n",
       "      <td>0</td>\n",
       "      <td>0</td>\n",
       "      <td>1</td>\n",
       "      <td>0</td>\n",
       "      <td>0</td>\n",
       "    </tr>\n",
       "    <tr>\n",
       "      <th>...</th>\n",
       "      <td>...</td>\n",
       "      <td>...</td>\n",
       "      <td>...</td>\n",
       "      <td>...</td>\n",
       "      <td>...</td>\n",
       "      <td>...</td>\n",
       "      <td>...</td>\n",
       "      <td>...</td>\n",
       "      <td>...</td>\n",
       "      <td>...</td>\n",
       "      <td>...</td>\n",
       "      <td>...</td>\n",
       "      <td>...</td>\n",
       "      <td>...</td>\n",
       "      <td>...</td>\n",
       "      <td>...</td>\n",
       "      <td>...</td>\n",
       "      <td>...</td>\n",
       "      <td>...</td>\n",
       "      <td>...</td>\n",
       "      <td>...</td>\n",
       "    </tr>\n",
       "    <tr>\n",
       "      <th>11367</th>\n",
       "      <td>1397</td>\n",
       "      <td>52000.0</td>\n",
       "      <td>92000000.0</td>\n",
       "      <td>0</td>\n",
       "      <td>0</td>\n",
       "      <td>0</td>\n",
       "      <td>0</td>\n",
       "      <td>0</td>\n",
       "      <td>0</td>\n",
       "      <td>0</td>\n",
       "      <td>...</td>\n",
       "      <td>0</td>\n",
       "      <td>0</td>\n",
       "      <td>0</td>\n",
       "      <td>1</td>\n",
       "      <td>0</td>\n",
       "      <td>0</td>\n",
       "      <td>0</td>\n",
       "      <td>0</td>\n",
       "      <td>0</td>\n",
       "      <td>0</td>\n",
       "    </tr>\n",
       "    <tr>\n",
       "      <th>11368</th>\n",
       "      <td>1385</td>\n",
       "      <td>220000.0</td>\n",
       "      <td>45000000.0</td>\n",
       "      <td>0</td>\n",
       "      <td>0</td>\n",
       "      <td>0</td>\n",
       "      <td>0</td>\n",
       "      <td>0</td>\n",
       "      <td>0</td>\n",
       "      <td>0</td>\n",
       "      <td>...</td>\n",
       "      <td>1</td>\n",
       "      <td>0</td>\n",
       "      <td>0</td>\n",
       "      <td>0</td>\n",
       "      <td>0</td>\n",
       "      <td>0</td>\n",
       "      <td>0</td>\n",
       "      <td>0</td>\n",
       "      <td>0</td>\n",
       "      <td>0</td>\n",
       "    </tr>\n",
       "    <tr>\n",
       "      <th>11369</th>\n",
       "      <td>1396</td>\n",
       "      <td>42000.0</td>\n",
       "      <td>90000000.0</td>\n",
       "      <td>0</td>\n",
       "      <td>0</td>\n",
       "      <td>0</td>\n",
       "      <td>0</td>\n",
       "      <td>0</td>\n",
       "      <td>0</td>\n",
       "      <td>0</td>\n",
       "      <td>...</td>\n",
       "      <td>0</td>\n",
       "      <td>0</td>\n",
       "      <td>0</td>\n",
       "      <td>0</td>\n",
       "      <td>0</td>\n",
       "      <td>0</td>\n",
       "      <td>0</td>\n",
       "      <td>1</td>\n",
       "      <td>0</td>\n",
       "      <td>0</td>\n",
       "    </tr>\n",
       "    <tr>\n",
       "      <th>11370</th>\n",
       "      <td>1391</td>\n",
       "      <td>250000.0</td>\n",
       "      <td>47000000.0</td>\n",
       "      <td>0</td>\n",
       "      <td>0</td>\n",
       "      <td>0</td>\n",
       "      <td>0</td>\n",
       "      <td>0</td>\n",
       "      <td>0</td>\n",
       "      <td>0</td>\n",
       "      <td>...</td>\n",
       "      <td>0</td>\n",
       "      <td>0</td>\n",
       "      <td>0</td>\n",
       "      <td>1</td>\n",
       "      <td>0</td>\n",
       "      <td>0</td>\n",
       "      <td>0</td>\n",
       "      <td>0</td>\n",
       "      <td>0</td>\n",
       "      <td>0</td>\n",
       "    </tr>\n",
       "    <tr>\n",
       "      <th>11371</th>\n",
       "      <td>1391</td>\n",
       "      <td>21.0</td>\n",
       "      <td>36000000.0</td>\n",
       "      <td>0</td>\n",
       "      <td>0</td>\n",
       "      <td>0</td>\n",
       "      <td>0</td>\n",
       "      <td>0</td>\n",
       "      <td>0</td>\n",
       "      <td>0</td>\n",
       "      <td>...</td>\n",
       "      <td>0</td>\n",
       "      <td>0</td>\n",
       "      <td>0</td>\n",
       "      <td>0</td>\n",
       "      <td>0</td>\n",
       "      <td>0</td>\n",
       "      <td>0</td>\n",
       "      <td>0</td>\n",
       "      <td>0</td>\n",
       "      <td>1</td>\n",
       "    </tr>\n",
       "  </tbody>\n",
       "</table>\n",
       "<p>11372 rows × 69 columns</p>\n",
       "</div>"
      ],
      "text/plain": [
       "       year     usage       price  brand_تیبا صندوق‌دار LX  \\\n",
       "0      1397   55000.0  70000000.0                        0   \n",
       "1      1392   40000.0  34000000.0                        0   \n",
       "2      1384  300000.0  36500000.0                        0   \n",
       "3      1386     250.0  27200000.0                        0   \n",
       "4      1387     277.0  30000000.0                        0   \n",
       "...     ...       ...         ...                      ...   \n",
       "11367  1397   52000.0  92000000.0                        0   \n",
       "11368  1385  220000.0  45000000.0                        0   \n",
       "11369  1396   42000.0  90000000.0                        0   \n",
       "11370  1391  250000.0  47000000.0                        0   \n",
       "11371  1391      21.0  36000000.0                        0   \n",
       "\n",
       "       brand_تیبا صندوق‌دار SX  brand_جک S5 اتوماتیک  brand_جک S5 دنده‌ای  \\\n",
       "0                            0                     0                    0   \n",
       "1                            0                     0                    0   \n",
       "2                            0                     0                    0   \n",
       "3                            0                     0                    0   \n",
       "4                            0                     0                    0   \n",
       "...                        ...                   ...                  ...   \n",
       "11367                        0                     0                    0   \n",
       "11368                        0                     0                    0   \n",
       "11369                        0                     0                    0   \n",
       "11370                        0                     0                    0   \n",
       "11371                        0                     0                    0   \n",
       "\n",
       "       brand_دنا معمولی  brand_دنا معمولی 1700cc  brand_سمند LX  ...  \\\n",
       "0                     0                        0              0  ...   \n",
       "1                     0                        0              0  ...   \n",
       "2                     0                        0              0  ...   \n",
       "3                     0                        0              0  ...   \n",
       "4                     0                        0              0  ...   \n",
       "...                 ...                      ...            ...  ...   \n",
       "11367                 0                        0              0  ...   \n",
       "11368                 0                        0              0  ...   \n",
       "11369                 0                        0              0  ...   \n",
       "11370                 0                        0              0  ...   \n",
       "11371                 0                        0              0  ...   \n",
       "\n",
       "       body_یک لکه رنگ  loc_1_اهواز  loc_1_تبریز  loc_1_تهران  loc_1_رشت  \\\n",
       "0                    0            0            0            0          0   \n",
       "1                    1            0            0            0          0   \n",
       "2                    0            0            0            0          0   \n",
       "3                    1            0            1            0          0   \n",
       "4                    0            0            0            0          0   \n",
       "...                ...          ...          ...          ...        ...   \n",
       "11367                0            0            0            1          0   \n",
       "11368                1            0            0            0          0   \n",
       "11369                0            0            0            0          0   \n",
       "11370                0            0            0            1          0   \n",
       "11371                0            0            0            0          0   \n",
       "\n",
       "       loc_1_شیراز  loc_1_قم  loc_1_مشهد  loc_1_کرج  loc_1_کرمانشاه  \n",
       "0                0         1           0          0               0  \n",
       "1                1         0           0          0               0  \n",
       "2                1         0           0          0               0  \n",
       "3                0         0           0          0               0  \n",
       "4                0         0           1          0               0  \n",
       "...            ...       ...         ...        ...             ...  \n",
       "11367            0         0           0          0               0  \n",
       "11368            0         0           0          0               0  \n",
       "11369            0         0           1          0               0  \n",
       "11370            0         0           0          0               0  \n",
       "11371            0         0           0          0               1  \n",
       "\n",
       "[11372 rows x 69 columns]"
      ]
     },
     "execution_count": 11,
     "metadata": {},
     "output_type": "execute_result"
    }
   ],
   "source": [
    "reg_encoded"
   ]
  },
  {
   "cell_type": "code",
   "execution_count": 52,
   "metadata": {},
   "outputs": [],
   "source": [
    "# reg_encoded.to_csv('reg_encoded.csv')"
   ]
  },
  {
   "cell_type": "markdown",
   "metadata": {},
   "source": [
    "## Encoding For Neural Network"
   ]
  },
  {
   "cell_type": "code",
   "execution_count": 4,
   "metadata": {},
   "outputs": [],
   "source": [
    "from sklearn.preprocessing import LabelEncoder"
   ]
  },
  {
   "cell_type": "code",
   "execution_count": 5,
   "metadata": {},
   "outputs": [],
   "source": [
    "le = LabelEncoder()\n",
    "le1 = LabelEncoder()\n",
    "le2 = LabelEncoder()\n",
    "le3 = LabelEncoder()\n",
    "le4 = LabelEncoder()\n",
    "le5 = LabelEncoder()"
   ]
  },
  {
   "cell_type": "code",
   "execution_count": 6,
   "metadata": {},
   "outputs": [],
   "source": [
    "brand = le.fit_transform(cleaned_data['brand'])\n",
    "color = le1.fit_transform(cleaned_data['color'])\n",
    "gear = le2.fit_transform(cleaned_data['gear'])\n",
    "year = le3.fit_transform(cleaned_data['year'])\n",
    "body = le4.fit_transform(cleaned_data['body'])\n",
    "loc = le5.fit_transform(cleaned_data['loc_1'])"
   ]
  },
  {
   "cell_type": "code",
   "execution_count": 7,
   "metadata": {},
   "outputs": [],
   "source": [
    "neu_encoded = pd.DataFrame()\n",
    "neu_encoded['brand'] = brand\n",
    "neu_encoded['color'] = color\n",
    "neu_encoded['gear'] = gear\n",
    "neu_encoded['year'] = year\n",
    "neu_encoded['body'] = body\n",
    "neu_encoded['loc'] = loc\n",
    "neu_encoded['usage'] = cleaned_data['usage']\n",
    "neu_encoded['price'] = cleaned_data['price']"
   ]
  },
  {
   "cell_type": "code",
   "execution_count": 8,
   "metadata": {},
   "outputs": [
    {
     "data": {
      "text/html": [
       "<div>\n",
       "<style scoped>\n",
       "    .dataframe tbody tr th:only-of-type {\n",
       "        vertical-align: middle;\n",
       "    }\n",
       "\n",
       "    .dataframe tbody tr th {\n",
       "        vertical-align: top;\n",
       "    }\n",
       "\n",
       "    .dataframe thead th {\n",
       "        text-align: right;\n",
       "    }\n",
       "</style>\n",
       "<table border=\"1\" class=\"dataframe\">\n",
       "  <thead>\n",
       "    <tr style=\"text-align: right;\">\n",
       "      <th></th>\n",
       "      <th>brand</th>\n",
       "      <th>color</th>\n",
       "      <th>gear</th>\n",
       "      <th>year</th>\n",
       "      <th>body</th>\n",
       "      <th>loc</th>\n",
       "      <th>usage</th>\n",
       "      <th>price</th>\n",
       "    </tr>\n",
       "  </thead>\n",
       "  <tbody>\n",
       "    <tr>\n",
       "      <th>0</th>\n",
       "      <td>26</td>\n",
       "      <td>6</td>\n",
       "      <td>1</td>\n",
       "      <td>21</td>\n",
       "      <td>0</td>\n",
       "      <td>6</td>\n",
       "      <td>55000.0</td>\n",
       "      <td>70000000.0</td>\n",
       "    </tr>\n",
       "    <tr>\n",
       "      <th>1</th>\n",
       "      <td>12</td>\n",
       "      <td>0</td>\n",
       "      <td>1</td>\n",
       "      <td>16</td>\n",
       "      <td>3</td>\n",
       "      <td>5</td>\n",
       "      <td>40000.0</td>\n",
       "      <td>34000000.0</td>\n",
       "    </tr>\n",
       "    <tr>\n",
       "      <th>2</th>\n",
       "      <td>24</td>\n",
       "      <td>23</td>\n",
       "      <td>1</td>\n",
       "      <td>8</td>\n",
       "      <td>2</td>\n",
       "      <td>5</td>\n",
       "      <td>300000.0</td>\n",
       "      <td>36500000.0</td>\n",
       "    </tr>\n",
       "    <tr>\n",
       "      <th>3</th>\n",
       "      <td>19</td>\n",
       "      <td>15</td>\n",
       "      <td>1</td>\n",
       "      <td>10</td>\n",
       "      <td>3</td>\n",
       "      <td>2</td>\n",
       "      <td>250.0</td>\n",
       "      <td>27200000.0</td>\n",
       "    </tr>\n",
       "    <tr>\n",
       "      <th>4</th>\n",
       "      <td>19</td>\n",
       "      <td>10</td>\n",
       "      <td>1</td>\n",
       "      <td>11</td>\n",
       "      <td>2</td>\n",
       "      <td>7</td>\n",
       "      <td>277.0</td>\n",
       "      <td>30000000.0</td>\n",
       "    </tr>\n",
       "  </tbody>\n",
       "</table>\n",
       "</div>"
      ],
      "text/plain": [
       "   brand  color  gear  year  body  loc     usage       price\n",
       "0     26      6     1    21     0    6   55000.0  70000000.0\n",
       "1     12      0     1    16     3    5   40000.0  34000000.0\n",
       "2     24     23     1     8     2    5  300000.0  36500000.0\n",
       "3     19     15     1    10     3    2     250.0  27200000.0\n",
       "4     19     10     1    11     2    7     277.0  30000000.0"
      ]
     },
     "execution_count": 8,
     "metadata": {},
     "output_type": "execute_result"
    }
   ],
   "source": [
    "neu_encoded.head()"
   ]
  },
  {
   "cell_type": "code",
   "execution_count": 9,
   "metadata": {},
   "outputs": [],
   "source": [
    "# neu_encoded.to_csv('neu_encoded.csv')"
   ]
  }
 ],
 "metadata": {
  "kernelspec": {
   "display_name": "Python 3",
   "language": "python",
   "name": "python3"
  },
  "language_info": {
   "codemirror_mode": {
    "name": "ipython",
    "version": 3
   },
   "file_extension": ".py",
   "mimetype": "text/x-python",
   "name": "python",
   "nbconvert_exporter": "python",
   "pygments_lexer": "ipython3",
   "version": "3.7.6"
  }
 },
 "nbformat": 4,
 "nbformat_minor": 2
}
